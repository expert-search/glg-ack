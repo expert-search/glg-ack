{
  "nbformat": 4,
  "nbformat_minor": 0,
  "metadata": {
    "accelerator": "GPU",
    "colab": {
      "name": "1.5-cgc-DistilBERT With HuggingFace (with 'other' label).ipynb",
      "provenance": [],
      "collapsed_sections": [],
      "machine_shape": "hm",
      "authorship_tag": "ABX9TyPsrhw6dtYQ7HdwbF4jJb6R",
      "include_colab_link": true
    },
    "kernelspec": {
      "display_name": "Python 3",
      "name": "python3"
    },
    "language_info": {
      "name": "python"
    }
  },
  "cells": [
    {
      "cell_type": "markdown",
      "metadata": {
        "id": "view-in-github",
        "colab_type": "text"
      },
      "source": [
        "<a href=\"https://colab.research.google.com/github/expert-search/glg-ack/blob/main/cgc-1.3-DistilBERT_With_HuggingFace.ipynb\" target=\"_parent\"><img src=\"https://colab.research.google.com/assets/colab-badge.svg\" alt=\"Open In Colab\"/></a>"
      ]
    },
    {
      "cell_type": "markdown",
      "metadata": {
        "id": "8-Seq3ecsO0S"
      },
      "source": [
        "# GrailQA Dataset Exploration w/ BERT (w/ domain selection and mapping)"
      ]
    },
    {
      "cell_type": "markdown",
      "metadata": {
        "id": "9COHLDxRsIBC"
      },
      "source": [
        "Original (BERT model) adpated from https://towardsdatascience.com/multi-label-multi-class-text-classification-with-bert-transformer-and-keras-c6355eccb63a"
      ]
    },
    {
      "cell_type": "markdown",
      "metadata": {
        "id": "NN7_3JwN8mRz"
      },
      "source": [
        "Additional DistilBERT info gleaned from https://medium.com/nerd-for-tech/building-a-personal-ai-assistant-part-2-afb26c2a3b5b"
      ]
    },
    {
      "cell_type": "code",
      "metadata": {
        "colab": {
          "base_uri": "https://localhost:8080/"
        },
        "id": "XYD8YWlxXMWt",
        "outputId": "a65968ed-bff7-458e-83b3-84172da4f8c0"
      },
      "source": [
        "!pip install transformers\n",
        "from transformers import TFDistilBertModel, DistilBertConfig, DistilBertTokenizerFast\n",
        "\n",
        "from tensorflow.keras.layers import Input, Dropout, Dense\n",
        "from tensorflow.keras.models import Model\n",
        "from tensorflow.math import confusion_matrix\n",
        "from tensorflow.keras.optimizers import Adam\n",
        "from tensorflow.keras.callbacks import EarlyStopping\n",
        "from tensorflow.keras.initializers import TruncatedNormal\n",
        "from tensorflow.keras.losses import CategoricalCrossentropy\n",
        "from tensorflow.keras.metrics import CategoricalAccuracy, Precision, Recall\n",
        "from tensorflow.keras.utils import to_categorical\n",
        "\n",
        "import pandas as pd\n",
        "from sklearn.model_selection import train_test_split"
      ],
      "execution_count": 1,
      "outputs": [
        {
          "output_type": "stream",
          "name": "stdout",
          "text": [
            "Requirement already satisfied: transformers in /usr/local/lib/python3.7/dist-packages (4.10.0)\n",
            "Requirement already satisfied: sacremoses in /usr/local/lib/python3.7/dist-packages (from transformers) (0.0.45)\n",
            "Requirement already satisfied: pyyaml>=5.1 in /usr/local/lib/python3.7/dist-packages (from transformers) (5.4.1)\n",
            "Requirement already satisfied: numpy>=1.17 in /usr/local/lib/python3.7/dist-packages (from transformers) (1.19.5)\n",
            "Requirement already satisfied: regex!=2019.12.17 in /usr/local/lib/python3.7/dist-packages (from transformers) (2019.12.20)\n",
            "Requirement already satisfied: filelock in /usr/local/lib/python3.7/dist-packages (from transformers) (3.0.12)\n",
            "Requirement already satisfied: tqdm>=4.27 in /usr/local/lib/python3.7/dist-packages (from transformers) (4.62.0)\n",
            "Requirement already satisfied: importlib-metadata in /usr/local/lib/python3.7/dist-packages (from transformers) (4.6.4)\n",
            "Requirement already satisfied: tokenizers<0.11,>=0.10.1 in /usr/local/lib/python3.7/dist-packages (from transformers) (0.10.3)\n",
            "Requirement already satisfied: requests in /usr/local/lib/python3.7/dist-packages (from transformers) (2.23.0)\n",
            "Requirement already satisfied: huggingface-hub>=0.0.12 in /usr/local/lib/python3.7/dist-packages (from transformers) (0.0.16)\n",
            "Requirement already satisfied: packaging in /usr/local/lib/python3.7/dist-packages (from transformers) (21.0)\n",
            "Requirement already satisfied: typing-extensions in /usr/local/lib/python3.7/dist-packages (from huggingface-hub>=0.0.12->transformers) (3.7.4.3)\n",
            "Requirement already satisfied: pyparsing>=2.0.2 in /usr/local/lib/python3.7/dist-packages (from packaging->transformers) (2.4.7)\n",
            "Requirement already satisfied: zipp>=0.5 in /usr/local/lib/python3.7/dist-packages (from importlib-metadata->transformers) (3.5.0)\n",
            "Requirement already satisfied: chardet<4,>=3.0.2 in /usr/local/lib/python3.7/dist-packages (from requests->transformers) (3.0.4)\n",
            "Requirement already satisfied: urllib3!=1.25.0,!=1.25.1,<1.26,>=1.21.1 in /usr/local/lib/python3.7/dist-packages (from requests->transformers) (1.24.3)\n",
            "Requirement already satisfied: certifi>=2017.4.17 in /usr/local/lib/python3.7/dist-packages (from requests->transformers) (2021.5.30)\n",
            "Requirement already satisfied: idna<3,>=2.5 in /usr/local/lib/python3.7/dist-packages (from requests->transformers) (2.10)\n",
            "Requirement already satisfied: joblib in /usr/local/lib/python3.7/dist-packages (from sacremoses->transformers) (1.0.1)\n",
            "Requirement already satisfied: six in /usr/local/lib/python3.7/dist-packages (from sacremoses->transformers) (1.15.0)\n",
            "Requirement already satisfied: click in /usr/local/lib/python3.7/dist-packages (from sacremoses->transformers) (7.1.2)\n"
          ]
        }
      ]
    },
    {
      "cell_type": "code",
      "metadata": {
        "colab": {
          "base_uri": "https://localhost:8080/"
        },
        "id": "oGbmhMSEePPx",
        "outputId": "6d002aff-70dc-4ec2-e7d9-4fb1b5774b36"
      },
      "source": [
        "!pip install tensorflow_addons\n",
        "from tensorflow_addons.metrics import F1Score"
      ],
      "execution_count": 2,
      "outputs": [
        {
          "output_type": "stream",
          "name": "stdout",
          "text": [
            "Requirement already satisfied: tensorflow_addons in /usr/local/lib/python3.7/dist-packages (0.14.0)\n",
            "Requirement already satisfied: typeguard>=2.7 in /usr/local/lib/python3.7/dist-packages (from tensorflow_addons) (2.7.1)\n"
          ]
        }
      ]
    },
    {
      "cell_type": "code",
      "metadata": {
        "colab": {
          "base_uri": "https://localhost:8080/"
        },
        "id": "Unu1C9F3XDHR",
        "outputId": "577277d4-3483-4ae6-80ff-68aaee45a0d9"
      },
      "source": [
        "!pip install datasets\n",
        "from datasets import load_dataset\n",
        "dataset = load_dataset(\n",
        "   'grail_qa')"
      ],
      "execution_count": 3,
      "outputs": [
        {
          "output_type": "stream",
          "name": "stdout",
          "text": [
            "Requirement already satisfied: datasets in /usr/local/lib/python3.7/dist-packages (1.11.0)\n",
            "Requirement already satisfied: fsspec>=2021.05.0 in /usr/local/lib/python3.7/dist-packages (from datasets) (2021.8.1)\n",
            "Requirement already satisfied: multiprocess in /usr/local/lib/python3.7/dist-packages (from datasets) (0.70.12.2)\n",
            "Requirement already satisfied: importlib-metadata in /usr/local/lib/python3.7/dist-packages (from datasets) (4.6.4)\n",
            "Requirement already satisfied: packaging in /usr/local/lib/python3.7/dist-packages (from datasets) (21.0)\n",
            "Requirement already satisfied: huggingface-hub<0.1.0 in /usr/local/lib/python3.7/dist-packages (from datasets) (0.0.16)\n",
            "Requirement already satisfied: requests>=2.19.0 in /usr/local/lib/python3.7/dist-packages (from datasets) (2.23.0)\n",
            "Requirement already satisfied: numpy>=1.17 in /usr/local/lib/python3.7/dist-packages (from datasets) (1.19.5)\n",
            "Requirement already satisfied: pandas in /usr/local/lib/python3.7/dist-packages (from datasets) (1.1.5)\n",
            "Requirement already satisfied: xxhash in /usr/local/lib/python3.7/dist-packages (from datasets) (2.0.2)\n",
            "Requirement already satisfied: tqdm>=4.42 in /usr/local/lib/python3.7/dist-packages (from datasets) (4.62.0)\n",
            "Requirement already satisfied: pyarrow!=4.0.0,>=1.0.0 in /usr/local/lib/python3.7/dist-packages (from datasets) (3.0.0)\n",
            "Requirement already satisfied: dill in /usr/local/lib/python3.7/dist-packages (from datasets) (0.3.4)\n",
            "Requirement already satisfied: typing-extensions in /usr/local/lib/python3.7/dist-packages (from huggingface-hub<0.1.0->datasets) (3.7.4.3)\n",
            "Requirement already satisfied: filelock in /usr/local/lib/python3.7/dist-packages (from huggingface-hub<0.1.0->datasets) (3.0.12)\n",
            "Requirement already satisfied: pyparsing>=2.0.2 in /usr/local/lib/python3.7/dist-packages (from packaging->datasets) (2.4.7)\n",
            "Requirement already satisfied: idna<3,>=2.5 in /usr/local/lib/python3.7/dist-packages (from requests>=2.19.0->datasets) (2.10)\n",
            "Requirement already satisfied: urllib3!=1.25.0,!=1.25.1,<1.26,>=1.21.1 in /usr/local/lib/python3.7/dist-packages (from requests>=2.19.0->datasets) (1.24.3)\n",
            "Requirement already satisfied: certifi>=2017.4.17 in /usr/local/lib/python3.7/dist-packages (from requests>=2.19.0->datasets) (2021.5.30)\n",
            "Requirement already satisfied: chardet<4,>=3.0.2 in /usr/local/lib/python3.7/dist-packages (from requests>=2.19.0->datasets) (3.0.4)\n",
            "Requirement already satisfied: zipp>=0.5 in /usr/local/lib/python3.7/dist-packages (from importlib-metadata->datasets) (3.5.0)\n",
            "Requirement already satisfied: python-dateutil>=2.7.3 in /usr/local/lib/python3.7/dist-packages (from pandas->datasets) (2.8.2)\n",
            "Requirement already satisfied: pytz>=2017.2 in /usr/local/lib/python3.7/dist-packages (from pandas->datasets) (2018.9)\n",
            "Requirement already satisfied: six>=1.5 in /usr/local/lib/python3.7/dist-packages (from python-dateutil>=2.7.3->pandas->datasets) (1.15.0)\n"
          ]
        },
        {
          "output_type": "stream",
          "name": "stderr",
          "text": [
            "Using custom data configuration default\n",
            "Reusing dataset grail_qa (/root/.cache/huggingface/datasets/grail_qa/default/0.0.0/2be99c6902e842f3ba87dd36fa96a2236206438ebb67c5e5464a36e4049fd3fb)\n"
          ]
        }
      ]
    },
    {
      "cell_type": "code",
      "metadata": {
        "id": "taUndV62eHkW"
      },
      "source": [
        "df_train = pd.DataFrame(dataset['train'])\n",
        "df_valid = pd.DataFrame(dataset['validation'])\n",
        "df_test = pd.DataFrame(dataset['test'])"
      ],
      "execution_count": 4,
      "outputs": []
    },
    {
      "cell_type": "code",
      "metadata": {
        "colab": {
          "base_uri": "https://localhost:8080/",
          "height": 559
        },
        "id": "pJdjDA9KA4nO",
        "outputId": "6d53d073-5e5b-4558-cf0e-eb8c704090c7"
      },
      "source": [
        "df_train.head()"
      ],
      "execution_count": 5,
      "outputs": [
        {
          "output_type": "execute_result",
          "data": {
            "text/html": [
              "<div>\n",
              "<style scoped>\n",
              "    .dataframe tbody tr th:only-of-type {\n",
              "        vertical-align: middle;\n",
              "    }\n",
              "\n",
              "    .dataframe tbody tr th {\n",
              "        vertical-align: top;\n",
              "    }\n",
              "\n",
              "    .dataframe thead th {\n",
              "        text-align: right;\n",
              "    }\n",
              "</style>\n",
              "<table border=\"1\" class=\"dataframe\">\n",
              "  <thead>\n",
              "    <tr style=\"text-align: right;\">\n",
              "      <th></th>\n",
              "      <th>qid</th>\n",
              "      <th>question</th>\n",
              "      <th>answer</th>\n",
              "      <th>function</th>\n",
              "      <th>num_node</th>\n",
              "      <th>num_edge</th>\n",
              "      <th>graph_query</th>\n",
              "      <th>sparql_query</th>\n",
              "      <th>domains</th>\n",
              "      <th>level</th>\n",
              "      <th>s_expression</th>\n",
              "    </tr>\n",
              "  </thead>\n",
              "  <tbody>\n",
              "    <tr>\n",
              "      <th>0</th>\n",
              "      <td>2101535001000</td>\n",
              "      <td>oxybutynin chloride 5 extended release film co...</td>\n",
              "      <td>{'answer_type': ['Entity', 'Entity'], 'answer_...</td>\n",
              "      <td>none</td>\n",
              "      <td>2</td>\n",
              "      <td>1</td>\n",
              "      <td>{'nodes': {'nid': [0, 1], 'node_type': ['class...</td>\n",
              "      <td>PREFIX rdf: &lt;http://www.w3.org/1999/02/22-rdf-...</td>\n",
              "      <td>[medicine]</td>\n",
              "      <td></td>\n",
              "      <td>(AND medicine.routed_drug (JOIN medicine.route...</td>\n",
              "    </tr>\n",
              "    <tr>\n",
              "      <th>1</th>\n",
              "      <td>2100954014000</td>\n",
              "      <td>the type single-sex school are in which instit...</td>\n",
              "      <td>{'answer_type': ['Entity', 'Entity', 'Entity',...</td>\n",
              "      <td>none</td>\n",
              "      <td>2</td>\n",
              "      <td>1</td>\n",
              "      <td>{'nodes': {'nid': [0, 1], 'node_type': ['class...</td>\n",
              "      <td>PREFIX rdf: &lt;http://www.w3.org/1999/02/22-rdf-...</td>\n",
              "      <td>[education]</td>\n",
              "      <td></td>\n",
              "      <td>(AND education.educational_institution (JOIN e...</td>\n",
              "    </tr>\n",
              "    <tr>\n",
              "      <th>2</th>\n",
              "      <td>3206374001000</td>\n",
              "      <td>the leaders of the earliest established religi...</td>\n",
              "      <td>{'answer_type': ['Entity'], 'answer_argument':...</td>\n",
              "      <td>argmin</td>\n",
              "      <td>3</td>\n",
              "      <td>2</td>\n",
              "      <td>{'nodes': {'nid': [0, 1, 2], 'node_type': ['cl...</td>\n",
              "      <td>PREFIX rdf: &lt;http://www.w3.org/1999/02/22-rdf-...</td>\n",
              "      <td>[religion]</td>\n",
              "      <td></td>\n",
              "      <td>(ARGMIN religion.religious_leadership_title (J...</td>\n",
              "    </tr>\n",
              "    <tr>\n",
              "      <th>3</th>\n",
              "      <td>2100735000000</td>\n",
              "      <td>on 07/01/1970, which warship v1.1 was hit?</td>\n",
              "      <td>{'answer_type': ['Entity'], 'answer_argument':...</td>\n",
              "      <td>none</td>\n",
              "      <td>2</td>\n",
              "      <td>1</td>\n",
              "      <td>{'nodes': {'nid': [0, 1], 'node_type': ['class...</td>\n",
              "      <td>PREFIX rdf: &lt;http://www.w3.org/1999/02/22-rdf-...</td>\n",
              "      <td>[user.patrick.default_domain]</td>\n",
              "      <td></td>\n",
              "      <td>(AND user.patrick.default_domain.warship_v1_1 ...</td>\n",
              "    </tr>\n",
              "    <tr>\n",
              "      <th>4</th>\n",
              "      <td>2102770001000</td>\n",
              "      <td>what is the language regulator of basque?</td>\n",
              "      <td>{'answer_type': ['Entity'], 'answer_argument':...</td>\n",
              "      <td>none</td>\n",
              "      <td>2</td>\n",
              "      <td>1</td>\n",
              "      <td>{'nodes': {'nid': [0, 1], 'node_type': ['class...</td>\n",
              "      <td>PREFIX rdf: &lt;http://www.w3.org/1999/02/22-rdf-...</td>\n",
              "      <td>[language]</td>\n",
              "      <td></td>\n",
              "      <td>(AND language.language_regulator (JOIN languag...</td>\n",
              "    </tr>\n",
              "  </tbody>\n",
              "</table>\n",
              "</div>"
            ],
            "text/plain": [
              "             qid  ...                                       s_expression\n",
              "0  2101535001000  ...  (AND medicine.routed_drug (JOIN medicine.route...\n",
              "1  2100954014000  ...  (AND education.educational_institution (JOIN e...\n",
              "2  3206374001000  ...  (ARGMIN religion.religious_leadership_title (J...\n",
              "3  2100735000000  ...  (AND user.patrick.default_domain.warship_v1_1 ...\n",
              "4  2102770001000  ...  (AND language.language_regulator (JOIN languag...\n",
              "\n",
              "[5 rows x 11 columns]"
            ]
          },
          "metadata": {},
          "execution_count": 5
        }
      ]
    },
    {
      "cell_type": "markdown",
      "metadata": {
        "id": "MNDlvysiyd0f"
      },
      "source": [
        "The test partition has empty lists for the 'domains' column 🤔"
      ]
    },
    {
      "cell_type": "code",
      "metadata": {
        "id": "5IBjE5eguZQN"
      },
      "source": [
        "df_train['label'] = pd.Categorical([domains[0] for domains in df_train['domains']])\n",
        "df_valid['label'] = pd.Categorical([domains[0] for domains in df_valid['domains']])"
      ],
      "execution_count": 6,
      "outputs": []
    },
    {
      "cell_type": "code",
      "metadata": {
        "colab": {
          "base_uri": "https://localhost:8080/"
        },
        "id": "vVvGBjE9Vrz0",
        "outputId": "91c7ff27-966a-4e0a-e8d3-f45956375326"
      },
      "source": [
        "len(df_train[(df_train['label'] == 'medicine')])"
      ],
      "execution_count": 7,
      "outputs": [
        {
          "output_type": "execute_result",
          "data": {
            "text/plain": [
              "2013"
            ]
          },
          "metadata": {},
          "execution_count": 7
        }
      ]
    },
    {
      "cell_type": "code",
      "metadata": {
        "id": "1nJp1kwijI17"
      },
      "source": [
        "domains_to_keep = ['medicine', 'computer', 'spaceflight', 'biology', 'automotive', 'internet', 'engineering']"
      ],
      "execution_count": 8,
      "outputs": []
    },
    {
      "cell_type": "code",
      "metadata": {
        "id": "-Ha1LBIyKFhM"
      },
      "source": [
        "df_train_other = df_train[df_train['label'].isin(domains_to_keep) == False]\n",
        "df_valid_other = df_valid[df_valid['label'].isin(domains_to_keep) == False]"
      ],
      "execution_count": 9,
      "outputs": []
    },
    {
      "cell_type": "code",
      "metadata": {
        "id": "wzB3j_CBJ9ZL"
      },
      "source": [
        "df_train = df_train[df_train['label'].isin(domains_to_keep)]\n",
        "df_valid = df_valid[df_valid['label'].isin(domains_to_keep)]"
      ],
      "execution_count": 10,
      "outputs": []
    },
    {
      "cell_type": "code",
      "metadata": {
        "id": "vzMQKcnYpch0"
      },
      "source": [
        "domain_map = {\n",
        "    'medicine': 'healthcare',\n",
        "    'computer': 'technology',\n",
        "    'spaceflight': 'technology',\n",
        "    'biology': 'healthcare',\n",
        "    'automotive': 'technology',\n",
        "    'internet': 'technology',\n",
        "    'engineering': 'technology'\n",
        "}\n",
        "df_train['label'] = df_train['label'].map(domain_map)\n",
        "df_valid['label'] = df_valid['label'].map(domain_map)"
      ],
      "execution_count": 11,
      "outputs": []
    },
    {
      "cell_type": "code",
      "metadata": {
        "id": "BJeGQTpUI_-9"
      },
      "source": [
        "df_train_other['label'] = 'other'\n",
        "df_valid_other['label'] = 'other'"
      ],
      "execution_count": 12,
      "outputs": []
    },
    {
      "cell_type": "code",
      "metadata": {
        "id": "4SFh387tLUSL"
      },
      "source": [
        "df_train_other_subset = df_train_other.sample(n=3700, random_state=42)\n",
        "df_valid_other_subset = df_valid_other.sample(n=350, random_state=42)"
      ],
      "execution_count": 13,
      "outputs": []
    },
    {
      "cell_type": "code",
      "metadata": {
        "id": "itW6KTF6Mfns"
      },
      "source": [
        "df_train = pd.concat([df_train, df_train_other_subset])\n",
        "df_valid = pd.concat([df_valid, df_valid_other_subset])"
      ],
      "execution_count": 14,
      "outputs": []
    },
    {
      "cell_type": "code",
      "metadata": {
        "id": "HjufHCgQjuiG"
      },
      "source": [
        "df_train['label'] = pd.Categorical([label for label in df_train['label']])\n",
        "df_valid['label'] = pd.Categorical([label for label in df_valid['label']])\n",
        "df_train['numeric_label'] = df_train['label'].cat.codes\n",
        "df_valid['numeric_label'] = df_valid['label'].cat.codes"
      ],
      "execution_count": 15,
      "outputs": []
    },
    {
      "cell_type": "code",
      "metadata": {
        "colab": {
          "base_uri": "https://localhost:8080/"
        },
        "id": "Ni4yQ3M7UUSv",
        "outputId": "fe37ced8-0695-4856-808c-980b2e5545c4"
      },
      "source": [
        "print(len(df_train['label'].unique()))\n",
        "df_train['label'].value_counts()"
      ],
      "execution_count": 16,
      "outputs": [
        {
          "output_type": "stream",
          "name": "stdout",
          "text": [
            "3\n"
          ]
        },
        {
          "output_type": "execute_result",
          "data": {
            "text/plain": [
              "technology    4989\n",
              "other         3700\n",
              "healthcare    3286\n",
              "Name: label, dtype: int64"
            ]
          },
          "metadata": {},
          "execution_count": 16
        }
      ]
    },
    {
      "cell_type": "code",
      "metadata": {
        "colab": {
          "base_uri": "https://localhost:8080/"
        },
        "id": "5IIThiuNOCOs",
        "outputId": "ff41f4fe-1c37-4055-a464-7e10356046bb"
      },
      "source": [
        "df_valid['label'].value_counts()"
      ],
      "execution_count": 17,
      "outputs": [
        {
          "output_type": "execute_result",
          "data": {
            "text/plain": [
              "technology    409\n",
              "other         350\n",
              "healthcare    304\n",
              "Name: label, dtype: int64"
            ]
          },
          "metadata": {},
          "execution_count": 17
        }
      ]
    },
    {
      "cell_type": "markdown",
      "metadata": {
        "id": "do7Z-dYauRoq"
      },
      "source": [
        "### Fetch DistilBERT pre-trained encoder and tokenizer"
      ]
    },
    {
      "cell_type": "code",
      "metadata": {
        "colab": {
          "base_uri": "https://localhost:8080/"
        },
        "id": "_qsWGlRqfNn2",
        "outputId": "1d733930-5562-46b8-f978-1d352bbdb54d"
      },
      "source": [
        "#######################################\n",
        "### --------- Setup BERT ---------- ###\n",
        "# Name of the BERT model to use\n",
        "model_name = 'distilbert-base-uncased'\n",
        "# Max length of tokens\n",
        "max_length = 100\n",
        "# Load transformers config\n",
        "config = DistilBertConfig.from_pretrained(model_name)\n",
        "#config = DistilBertConfig()\n",
        "config.output_hidden_states = True\n",
        "config.num_labels = len(df_train['label'].unique())\n",
        "# Load tokenizer\n",
        "tokenizer = DistilBertTokenizerFast.from_pretrained(pretrained_model_name_or_path=model_name,\n",
        "                                                    config=config)\n",
        "# Load the Transformers DistilBERT model\n",
        "transformer_model = TFDistilBertModel.from_pretrained(model_name,\n",
        "                                                      config =config)"
      ],
      "execution_count": 18,
      "outputs": [
        {
          "output_type": "stream",
          "name": "stderr",
          "text": [
            "Some layers from the model checkpoint at distilbert-base-uncased were not used when initializing TFDistilBertModel: ['vocab_layer_norm', 'activation_13', 'vocab_transform', 'vocab_projector']\n",
            "- This IS expected if you are initializing TFDistilBertModel from the checkpoint of a model trained on another task or with another architecture (e.g. initializing a BertForSequenceClassification model from a BertForPreTraining model).\n",
            "- This IS NOT expected if you are initializing TFDistilBertModel from the checkpoint of a model that you expect to be exactly identical (initializing a BertForSequenceClassification model from a BertForSequenceClassification model).\n",
            "All the layers of TFDistilBertModel were initialized from the model checkpoint at distilbert-base-uncased.\n",
            "If your task is similar to the task the model of the checkpoint was trained on, you can already use TFDistilBertModel for predictions without further training.\n"
          ]
        }
      ]
    },
    {
      "cell_type": "code",
      "metadata": {
        "colab": {
          "base_uri": "https://localhost:8080/"
        },
        "id": "SI90mmVypa0a",
        "outputId": "fe2bcfb9-e8b1-415c-f1f5-dec328a4532e"
      },
      "source": [
        "#######################################\n",
        "### ------- Build the model ------- ###\n",
        "# TF Keras documentation: https://www.tensorflow.org/api_docs/python/tf/keras/Model\n",
        "# Load the MainLayer\n",
        "bert = transformer_model.layers[0]\n",
        "# Build your model input\n",
        "input_ids = Input(shape=(max_length,), name='input_ids', dtype='int32')\n",
        "inputs = {'input_ids': input_ids}\n",
        "# Load the Transformers BERT model as a layer in a Keras model\n",
        "bert_model = bert(inputs)[0]\n",
        "dropout = Dropout(config.dropout, name='pooled_output')\n",
        "pooled_output = dropout(bert_model, training=False)\n",
        "cls_token = pooled_output[:, 0, :]\n",
        "# Then build your model output\n",
        "label = Dense(units=len(df_train['numeric_label'].value_counts()),\n",
        "              kernel_initializer=TruncatedNormal(\n",
        "                  stddev=config.initializer_range\n",
        "                  ), \n",
        "              name='label')(cls_token)\n",
        "outputs = {'label': label}\n",
        "# And combine it all in a model object\n",
        "model = Model(inputs=inputs, outputs=outputs, name='DistilBERT_MultiClass')\n",
        "# Take a look at the model\n",
        "model.summary()"
      ],
      "execution_count": 19,
      "outputs": [
        {
          "output_type": "stream",
          "name": "stdout",
          "text": [
            "Model: \"DistilBERT_MultiClass\"\n",
            "_________________________________________________________________\n",
            "Layer (type)                 Output Shape              Param #   \n",
            "=================================================================\n",
            "input_ids (InputLayer)       [(None, 100)]             0         \n",
            "_________________________________________________________________\n",
            "distilbert (TFDistilBertMain TFBaseModelOutput(last_hi 66362880  \n",
            "_________________________________________________________________\n",
            "pooled_output (Dropout)      (None, 100, 768)          0         \n",
            "_________________________________________________________________\n",
            "tf.__operators__.getitem (Sl (None, 768)               0         \n",
            "_________________________________________________________________\n",
            "label (Dense)                (None, 3)                 2307      \n",
            "=================================================================\n",
            "Total params: 66,365,187\n",
            "Trainable params: 66,365,187\n",
            "Non-trainable params: 0\n",
            "_________________________________________________________________\n"
          ]
        }
      ]
    },
    {
      "cell_type": "markdown",
      "metadata": {
        "id": "saKwpFNHGPoh"
      },
      "source": [
        "### Model Training"
      ]
    },
    {
      "cell_type": "code",
      "metadata": {
        "colab": {
          "base_uri": "https://localhost:8080/"
        },
        "id": "B5Ntbpoiqf2o",
        "outputId": "b1008f0b-98a3-4f97-9e29-c0ef6d8af9da"
      },
      "source": [
        "optimizer = Adam(\n",
        "    learning_rate=5e-05,\n",
        "    epsilon=1e-08,\n",
        "    decay=0.01,\n",
        "    clipnorm=1.0\n",
        "    )\n",
        "\n",
        "loss = {'label': CategoricalCrossentropy(from_logits = True)}\n",
        "metric = {'label': CategoricalAccuracy('accuracy')}\n",
        "\n",
        "model.compile(\n",
        "    optimizer = optimizer,\n",
        "    loss = loss, \n",
        "    metrics = metric)\n",
        "\n",
        "y_label = to_categorical(df_train['numeric_label'])\n",
        "\n",
        "x = tokenizer(\n",
        "    text=df_train['question'].to_list(),\n",
        "    add_special_tokens=True,\n",
        "    max_length=max_length,\n",
        "    truncation=True,\n",
        "    padding=True, \n",
        "    return_tensors='tf',\n",
        "    return_token_type_ids=False,\n",
        "    return_attention_mask=False,\n",
        "    verbose=True)\n",
        "\n",
        "history = model.fit(\n",
        "    x={'input_ids': x['input_ids']},\n",
        "    y={'label': y_label},\n",
        "    validation_split=0.2,\n",
        "    batch_size=64,\n",
        "    epochs=5\n",
        ")"
      ],
      "execution_count": 20,
      "outputs": [
        {
          "output_type": "stream",
          "name": "stdout",
          "text": [
            "Epoch 1/5\n",
            "150/150 [==============================] - 67s 387ms/step - loss: 0.1782 - accuracy: 0.9329 - val_loss: 0.1407 - val_accuracy: 0.9566\n",
            "Epoch 2/5\n",
            "150/150 [==============================] - 57s 378ms/step - loss: 0.0231 - accuracy: 0.9942 - val_loss: 0.1663 - val_accuracy: 0.9528\n",
            "Epoch 3/5\n",
            "150/150 [==============================] - 57s 378ms/step - loss: 0.0114 - accuracy: 0.9973 - val_loss: 0.2049 - val_accuracy: 0.9449\n",
            "Epoch 4/5\n",
            "150/150 [==============================] - 57s 378ms/step - loss: 0.0074 - accuracy: 0.9981 - val_loss: 0.1189 - val_accuracy: 0.9712\n",
            "Epoch 5/5\n",
            "150/150 [==============================] - 57s 378ms/step - loss: 0.0048 - accuracy: 0.9990 - val_loss: 0.1725 - val_accuracy: 0.9620\n"
          ]
        }
      ]
    },
    {
      "cell_type": "code",
      "metadata": {
        "id": "gYMzKnPhPNdw",
        "colab": {
          "base_uri": "https://localhost:8080/"
        },
        "outputId": "ffeccd6a-0025-49ba-e794-6a79bad087f3"
      },
      "source": [
        "from google.colab import drive\n",
        "drive.mount('/content/drive')\n",
        "import os\n",
        "# The path below should point to the directory containing this notebook and the associated utility files\n",
        "# Change it if necessary\n",
        "os.chdir('/content/drive/MyDrive/')"
      ],
      "execution_count": 21,
      "outputs": [
        {
          "output_type": "stream",
          "name": "stdout",
          "text": [
            "Drive already mounted at /content/drive; to attempt to forcibly remount, call drive.mount(\"/content/drive\", force_remount=True).\n"
          ]
        }
      ]
    },
    {
      "cell_type": "code",
      "metadata": {
        "id": "1rg7KVkePelQ"
      },
      "source": [
        "#model.save('model_bert_w_other_label.hdf5')\n",
        "with open('distilbert_model.json', 'w') as f:\n",
        "    f.write(model.to_json())\n",
        "model.save_weights('distilbert_weights.hdf5')"
      ],
      "execution_count": 22,
      "outputs": []
    },
    {
      "cell_type": "markdown",
      "metadata": {
        "id": "4YszVFzxGZFv"
      },
      "source": [
        "### Evalutation\n",
        "\n",
        "Using the dev partition since the test partition is unlabeled."
      ]
    },
    {
      "cell_type": "code",
      "metadata": {
        "id": "c5rAuoYW9qlo",
        "colab": {
          "base_uri": "https://localhost:8080/"
        },
        "outputId": "e226d177-8765-40b0-9b1b-98008f9d8e9d"
      },
      "source": [
        "test_y = to_categorical(df_valid['numeric_label'])\n",
        "test_x = tokenizer(\n",
        "    text=df_valid['question'].to_list(),\n",
        "    add_special_tokens=True,\n",
        "    max_length=max_length,\n",
        "    truncation=True,\n",
        "    padding=\"max_length\",\n",
        "    pad_to_max_length=True,\n",
        "    return_tensors='tf',\n",
        "    return_token_type_ids=False,\n",
        "    return_attention_mask=False,\n",
        "    verbose=True)\n",
        "\n",
        "model_eval = model.evaluate(\n",
        "    x={'input_ids': test_x['input_ids']},\n",
        "    y={'label': test_y}\n",
        ")"
      ],
      "execution_count": 23,
      "outputs": [
        {
          "output_type": "stream",
          "name": "stdout",
          "text": [
            "34/34 [==============================] - 2s 67ms/step - loss: 0.3589 - accuracy: 0.9304\n"
          ]
        }
      ]
    },
    {
      "cell_type": "markdown",
      "metadata": {
        "id": "V1YaF5yI7OKG"
      },
      "source": [
        "### Verify Accuracy"
      ]
    },
    {
      "cell_type": "code",
      "metadata": {
        "id": "tkjHi3pPndL5"
      },
      "source": [
        "preds = model.predict(x={'input_ids': test_x['input_ids']})"
      ],
      "execution_count": 24,
      "outputs": []
    },
    {
      "cell_type": "code",
      "metadata": {
        "id": "SnCymsu1yWVR",
        "colab": {
          "base_uri": "https://localhost:8080/"
        },
        "outputId": "3e7df160-d94f-4263-cab4-7b4f25650f56"
      },
      "source": [
        "from tensorflow.math import argmax\n",
        "correct = 0\n",
        "for pred, expected in zip(argmax(preds['label'], axis=1),\n",
        "                          df_valid['numeric_label']):\n",
        "  if pred == expected:\n",
        "    correct += 1\n",
        "print(f\"Accuracy: {correct / len(df_valid)}\")"
      ],
      "execution_count": 25,
      "outputs": [
        {
          "output_type": "stream",
          "name": "stdout",
          "text": [
            "Accuracy: 0.9303857008466604\n"
          ]
        }
      ]
    },
    {
      "cell_type": "markdown",
      "metadata": {
        "id": "gGRMAfiy7dwA"
      },
      "source": [
        "### Confusion Matrix"
      ]
    },
    {
      "cell_type": "code",
      "metadata": {
        "id": "EBe8fDyunfm1",
        "colab": {
          "base_uri": "https://localhost:8080/"
        },
        "outputId": "66fd3126-b81a-4ff8-c0aa-e7e385e9e8b8"
      },
      "source": [
        "from tensorflow import argmax\n",
        "confusion_matrix(df_valid['numeric_label'],\n",
        "                 argmax(preds['label'], axis=1),\n",
        "                 num_classes=len(df_valid['label'].unique()))"
      ],
      "execution_count": 26,
      "outputs": [
        {
          "output_type": "execute_result",
          "data": {
            "text/plain": [
              "<tf.Tensor: shape=(3, 3), dtype=int32, numpy=\n",
              "array([[304,   0,   0],\n",
              "       [ 11, 277,  62],\n",
              "       [  0,   1, 408]], dtype=int32)>"
            ]
          },
          "metadata": {},
          "execution_count": 26
        }
      ]
    },
    {
      "cell_type": "markdown",
      "metadata": {
        "id": "Mxm5Ivym_a59"
      },
      "source": [
        "### OOD Evaluation\n",
        "[Yahoo QA Dataset](https://huggingface.co/datasets/viewer/?dataset=yahoo_answers_qa)"
      ]
    },
    {
      "cell_type": "code",
      "metadata": {
        "id": "XyzZ7f1k_mFE",
        "colab": {
          "base_uri": "https://localhost:8080/"
        },
        "outputId": "f4231009-2718-4497-dd5b-ac4ab1165971"
      },
      "source": [
        "yahoo_dataset = load_dataset(\n",
        "   'yahoo_answers_qa')"
      ],
      "execution_count": 27,
      "outputs": [
        {
          "output_type": "stream",
          "name": "stderr",
          "text": [
            "Reusing dataset yahoo_answers_qa (/root/.cache/huggingface/datasets/yahoo_answers_qa/yahoo_answers_qa/1.0.0/62f63c2dc317317049c5a213c97370fe2989ead076488347df250a4b35da10d7)\n"
          ]
        }
      ]
    },
    {
      "cell_type": "code",
      "metadata": {
        "id": "Pf3Tbu2g_3xl"
      },
      "source": [
        "yahoo_df = pd.DataFrame(yahoo_dataset['train'])"
      ],
      "execution_count": 28,
      "outputs": []
    },
    {
      "cell_type": "code",
      "metadata": {
        "id": "H2cKTz7nA0Kn",
        "colab": {
          "base_uri": "https://localhost:8080/",
          "height": 287
        },
        "outputId": "7a9230d6-a0c7-4532-b2ef-0ececa662fea"
      },
      "source": [
        "yahoo_df.head()"
      ],
      "execution_count": 29,
      "outputs": [
        {
          "output_type": "execute_result",
          "data": {
            "text/html": [
              "<div>\n",
              "<style scoped>\n",
              "    .dataframe tbody tr th:only-of-type {\n",
              "        vertical-align: middle;\n",
              "    }\n",
              "\n",
              "    .dataframe tbody tr th {\n",
              "        vertical-align: top;\n",
              "    }\n",
              "\n",
              "    .dataframe thead th {\n",
              "        text-align: right;\n",
              "    }\n",
              "</style>\n",
              "<table border=\"1\" class=\"dataframe\">\n",
              "  <thead>\n",
              "    <tr style=\"text-align: right;\">\n",
              "      <th></th>\n",
              "      <th>id</th>\n",
              "      <th>question</th>\n",
              "      <th>answer</th>\n",
              "      <th>nbestanswers</th>\n",
              "      <th>main_category</th>\n",
              "    </tr>\n",
              "  </thead>\n",
              "  <tbody>\n",
              "    <tr>\n",
              "      <th>0</th>\n",
              "      <td>2020338</td>\n",
              "      <td>Why did the U.S Invade Iraq ?</td>\n",
              "      <td>A small group of politicians believed strongly...</td>\n",
              "      <td>[A small group of politicians believed strongl...</td>\n",
              "      <td>News &amp; Events</td>\n",
              "    </tr>\n",
              "    <tr>\n",
              "      <th>1</th>\n",
              "      <td>2874684</td>\n",
              "      <td>How to get rid of a beehive?</td>\n",
              "      <td>Call an area apiarist.  They should be able to...</td>\n",
              "      <td>[Call an area apiarist.  They should be able t...</td>\n",
              "      <td>Education &amp; Reference</td>\n",
              "    </tr>\n",
              "    <tr>\n",
              "      <th>2</th>\n",
              "      <td>4193114</td>\n",
              "      <td>Why don't European restaurants serve water?</td>\n",
              "      <td>There's a general belief in Europe (and in fac...</td>\n",
              "      <td>[There's a general belief in Europe (and in fa...</td>\n",
              "      <td>Society &amp; Culture</td>\n",
              "    </tr>\n",
              "    <tr>\n",
              "      <th>3</th>\n",
              "      <td>1908421</td>\n",
              "      <td>Why hybrid cars gas mileage is better in city ?</td>\n",
              "      <td>hybrid cars save energy in two ways: 1.by stor...</td>\n",
              "      <td>[hybrid cars save energy in two ways: 1.by sto...</td>\n",
              "      <td>Cars &amp; Transportation</td>\n",
              "    </tr>\n",
              "    <tr>\n",
              "      <th>4</th>\n",
              "      <td>3608897</td>\n",
              "      <td>Can someone explain the theory of e=mc2?</td>\n",
              "      <td>In general it means that in a very high speed ...</td>\n",
              "      <td>[In general it means that in a very high speed...</td>\n",
              "      <td>Science &amp; Mathematics</td>\n",
              "    </tr>\n",
              "  </tbody>\n",
              "</table>\n",
              "</div>"
            ],
            "text/plain": [
              "        id  ...          main_category\n",
              "0  2020338  ...          News & Events\n",
              "1  2874684  ...  Education & Reference\n",
              "2  4193114  ...      Society & Culture\n",
              "3  1908421  ...  Cars & Transportation\n",
              "4  3608897  ...  Science & Mathematics\n",
              "\n",
              "[5 rows x 5 columns]"
            ]
          },
          "metadata": {},
          "execution_count": 29
        }
      ]
    },
    {
      "cell_type": "code",
      "metadata": {
        "id": "-t1iqwMYA_fQ",
        "colab": {
          "base_uri": "https://localhost:8080/"
        },
        "outputId": "01e923cf-c4fc-485e-90c3-da05b3637a7b"
      },
      "source": [
        "yahoo_df['main_category'].unique()"
      ],
      "execution_count": 30,
      "outputs": [
        {
          "output_type": "execute_result",
          "data": {
            "text/plain": [
              "array(['News & Events', 'Education & Reference', 'Society & Culture',\n",
              "       'Cars & Transportation', 'Science & Mathematics',\n",
              "       'Politics & Government', 'Pets', 'Food & Drink',\n",
              "       'Business & Finance', 'Computers & Internet', 'Games & Recreation',\n",
              "       'Health', 'Travel', 'Social Science', 'Yahoo! Products',\n",
              "       'Consumer Electronics', 'Arts & Humanities', 'Dining Out',\n",
              "       'Local Businesses', 'Asia Pacific', 'Yahoo!7 Products'],\n",
              "      dtype=object)"
            ]
          },
          "metadata": {},
          "execution_count": 30
        }
      ]
    },
    {
      "cell_type": "code",
      "metadata": {
        "id": "f7IeV8-IBnf-",
        "colab": {
          "base_uri": "https://localhost:8080/"
        },
        "outputId": "b3bd8cc2-73cb-4683-8577-be5064c810a5"
      },
      "source": [
        "yahoo_df['main_category'].value_counts()"
      ],
      "execution_count": 31,
      "outputs": [
        {
          "output_type": "execute_result",
          "data": {
            "text/plain": [
              "Computers & Internet     12229\n",
              "Health                   10699\n",
              "Science & Mathematics     8728\n",
              "Society & Culture         8651\n",
              "Business & Finance        8298\n",
              "Education & Reference     7343\n",
              "Yahoo! Products           5335\n",
              "Politics & Government     4788\n",
              "Cars & Transportation     3647\n",
              "Arts & Humanities         3521\n",
              "Food & Drink              3174\n",
              "Pets                      3069\n",
              "Consumer Electronics      2038\n",
              "Games & Recreation        1591\n",
              "Social Science            1407\n",
              "Travel                    1357\n",
              "News & Events              843\n",
              "Dining Out                 325\n",
              "Local Businesses           273\n",
              "Yahoo!7 Products            36\n",
              "Asia Pacific                10\n",
              "Name: main_category, dtype: int64"
            ]
          },
          "metadata": {},
          "execution_count": 31
        }
      ]
    },
    {
      "cell_type": "code",
      "metadata": {
        "id": "D3eYmKRdCeTQ"
      },
      "source": [
        "yahoo_df['label'] = pd.Categorical([main_cat for main_cat in yahoo_df['main_category']])"
      ],
      "execution_count": 32,
      "outputs": []
    },
    {
      "cell_type": "code",
      "metadata": {
        "id": "tB5GLQjQCE1s"
      },
      "source": [
        "domains_to_keep = ['Computers & Internet', 'Health']"
      ],
      "execution_count": 33,
      "outputs": []
    },
    {
      "cell_type": "code",
      "metadata": {
        "id": "oJ_8kt7OQZam"
      },
      "source": [
        "yahoo_df_other = yahoo_df[yahoo_df['label'].isin(domains_to_keep) == False]\n",
        "yahoo_df = yahoo_df[yahoo_df['label'].isin(domains_to_keep)]"
      ],
      "execution_count": 34,
      "outputs": []
    },
    {
      "cell_type": "code",
      "metadata": {
        "id": "RhnBMXKvCGIq"
      },
      "source": [
        "domain_map = {\n",
        "    'Health': 'healthcare',\n",
        "    'Computers & Internet': 'technology'\n",
        "}\n",
        "yahoo_df['label'] = yahoo_df['label'].map(domain_map)"
      ],
      "execution_count": 35,
      "outputs": []
    },
    {
      "cell_type": "code",
      "metadata": {
        "id": "UG9yguZhRbg7"
      },
      "source": [
        "yahoo_df_other['label'] = 'other'\n",
        "yahoo_df_other_subset = yahoo_df_other.sample(n=11000, random_state=42)"
      ],
      "execution_count": 36,
      "outputs": []
    },
    {
      "cell_type": "code",
      "metadata": {
        "id": "dsGHiLW9RzN1"
      },
      "source": [
        "yahoo_df = pd.concat([yahoo_df, yahoo_df_other_subset])"
      ],
      "execution_count": 37,
      "outputs": []
    },
    {
      "cell_type": "code",
      "metadata": {
        "id": "RjSE0GcDTmFB",
        "colab": {
          "base_uri": "https://localhost:8080/"
        },
        "outputId": "10e34784-80b4-41bc-d2c0-765a5d5e324c"
      },
      "source": [
        "yahoo_df['label'].value_counts()"
      ],
      "execution_count": 38,
      "outputs": [
        {
          "output_type": "execute_result",
          "data": {
            "text/plain": [
              "technology    12229\n",
              "other         11000\n",
              "healthcare    10699\n",
              "Name: label, dtype: int64"
            ]
          },
          "metadata": {},
          "execution_count": 38
        }
      ]
    },
    {
      "cell_type": "code",
      "metadata": {
        "id": "VdcaR-cfQs06"
      },
      "source": [
        "yahoo_df['label'] = pd.Categorical([label for label in yahoo_df['label']])\n",
        "yahoo_df['numeric_label'] = yahoo_df['label'].cat.codes"
      ],
      "execution_count": 39,
      "outputs": []
    },
    {
      "cell_type": "code",
      "metadata": {
        "id": "7c0LPHaCEOHN",
        "colab": {
          "base_uri": "https://localhost:8080/",
          "height": 371
        },
        "outputId": "fdcc7704-7736-4f61-b11a-11131ac7da19"
      },
      "source": [
        "yahoo_df.head()"
      ],
      "execution_count": 40,
      "outputs": [
        {
          "output_type": "execute_result",
          "data": {
            "text/html": [
              "<div>\n",
              "<style scoped>\n",
              "    .dataframe tbody tr th:only-of-type {\n",
              "        vertical-align: middle;\n",
              "    }\n",
              "\n",
              "    .dataframe tbody tr th {\n",
              "        vertical-align: top;\n",
              "    }\n",
              "\n",
              "    .dataframe thead th {\n",
              "        text-align: right;\n",
              "    }\n",
              "</style>\n",
              "<table border=\"1\" class=\"dataframe\">\n",
              "  <thead>\n",
              "    <tr style=\"text-align: right;\">\n",
              "      <th></th>\n",
              "      <th>id</th>\n",
              "      <th>question</th>\n",
              "      <th>answer</th>\n",
              "      <th>nbestanswers</th>\n",
              "      <th>main_category</th>\n",
              "      <th>label</th>\n",
              "      <th>numeric_label</th>\n",
              "    </tr>\n",
              "  </thead>\n",
              "  <tbody>\n",
              "    <tr>\n",
              "      <th>24</th>\n",
              "      <td>599506</td>\n",
              "      <td>What is CGI?</td>\n",
              "      <td>Common Gateway Interface (CGI) is an important...</td>\n",
              "      <td>[Common Gateway Interface (CGI) is an importan...</td>\n",
              "      <td>Computers &amp; Internet</td>\n",
              "      <td>technology</td>\n",
              "      <td>2</td>\n",
              "    </tr>\n",
              "    <tr>\n",
              "      <th>26</th>\n",
              "      <td>2472154</td>\n",
              "      <td>Why are blueberries so good for your health?</td>\n",
              "      <td>Blueberries are high in anti-oxidants. Also, t...</td>\n",
              "      <td>[Blueberries are high in anti-oxidants. Also, ...</td>\n",
              "      <td>Health</td>\n",
              "      <td>healthcare</td>\n",
              "      <td>0</td>\n",
              "    </tr>\n",
              "    <tr>\n",
              "      <th>31</th>\n",
              "      <td>2519839</td>\n",
              "      <td>Why do women get PMS?</td>\n",
              "      <td>Premenstrual syndrome (PMS) is a group of symp...</td>\n",
              "      <td>[Premenstrual syndrome (PMS) is a group of sym...</td>\n",
              "      <td>Health</td>\n",
              "      <td>healthcare</td>\n",
              "      <td>0</td>\n",
              "    </tr>\n",
              "    <tr>\n",
              "      <th>33</th>\n",
              "      <td>2802889</td>\n",
              "      <td>Why doesn't Yahoo mail beta support SafarI on ...</td>\n",
              "      <td>Because Firefox and IE comprise the majority o...</td>\n",
              "      <td>[Because Firefox and IE comprise the majority ...</td>\n",
              "      <td>Computers &amp; Internet</td>\n",
              "      <td>technology</td>\n",
              "      <td>2</td>\n",
              "    </tr>\n",
              "    <tr>\n",
              "      <th>36</th>\n",
              "      <td>1947336</td>\n",
              "      <td>How should I encrypt/pw protect my backup file...</td>\n",
              "      <td>I recently backed up and restored a bunch of f...</td>\n",
              "      <td>[I recently backed up and restored a bunch of ...</td>\n",
              "      <td>Computers &amp; Internet</td>\n",
              "      <td>technology</td>\n",
              "      <td>2</td>\n",
              "    </tr>\n",
              "  </tbody>\n",
              "</table>\n",
              "</div>"
            ],
            "text/plain": [
              "         id  ... numeric_label\n",
              "24   599506  ...             2\n",
              "26  2472154  ...             0\n",
              "31  2519839  ...             0\n",
              "33  2802889  ...             2\n",
              "36  1947336  ...             2\n",
              "\n",
              "[5 rows x 7 columns]"
            ]
          },
          "metadata": {},
          "execution_count": 40
        }
      ]
    },
    {
      "cell_type": "code",
      "metadata": {
        "id": "k3pjA8Z8VqjK",
        "colab": {
          "base_uri": "https://localhost:8080/"
        },
        "outputId": "e4ded312-b851-4ef2-8ba1-fe202012157f"
      },
      "source": [
        "yahoo_df.info()"
      ],
      "execution_count": 41,
      "outputs": [
        {
          "output_type": "stream",
          "name": "stdout",
          "text": [
            "<class 'pandas.core.frame.DataFrame'>\n",
            "Int64Index: 33928 entries, 24 to 14141\n",
            "Data columns (total 7 columns):\n",
            " #   Column         Non-Null Count  Dtype   \n",
            "---  ------         --------------  -----   \n",
            " 0   id             33928 non-null  object  \n",
            " 1   question       33928 non-null  object  \n",
            " 2   answer         33928 non-null  object  \n",
            " 3   nbestanswers   33928 non-null  object  \n",
            " 4   main_category  33928 non-null  object  \n",
            " 5   label          33928 non-null  category\n",
            " 6   numeric_label  33928 non-null  int8    \n",
            "dtypes: category(1), int8(1), object(5)\n",
            "memory usage: 1.6+ MB\n"
          ]
        }
      ]
    },
    {
      "cell_type": "code",
      "metadata": {
        "id": "lZCkPQ8ND4jX",
        "colab": {
          "base_uri": "https://localhost:8080/"
        },
        "outputId": "6ed47e3b-815f-45d0-912d-ae45e634fa08"
      },
      "source": [
        "test_y = to_categorical(yahoo_df['numeric_label'])\n",
        "test_x = tokenizer(\n",
        "    text=yahoo_df['question'].to_list(),\n",
        "    add_special_tokens=True,\n",
        "    max_length=max_length,\n",
        "    truncation=True,\n",
        "    padding=\"max_length\",\n",
        "    pad_to_max_length=True,\n",
        "    return_tensors='tf',\n",
        "    return_token_type_ids=False,\n",
        "    return_attention_mask=False,\n",
        "    verbose=True)\n",
        "\n",
        "model_eval = model.evaluate(\n",
        "    x={'input_ids': test_x['input_ids']},\n",
        "    y={'label': test_y}\n",
        ")"
      ],
      "execution_count": 42,
      "outputs": [
        {
          "output_type": "stream",
          "name": "stdout",
          "text": [
            "1061/1061 [==============================] - 72s 68ms/step - loss: 1.2408 - accuracy: 0.7158\n"
          ]
        }
      ]
    },
    {
      "cell_type": "markdown",
      "metadata": {
        "id": "J5S_Hr0ZFxLs"
      },
      "source": [
        "#### Verify Accuracy + Confusion Matrix"
      ]
    },
    {
      "cell_type": "code",
      "metadata": {
        "id": "iVTucxDuFa86",
        "colab": {
          "base_uri": "https://localhost:8080/"
        },
        "outputId": "b4bc2e00-cf93-4c90-9801-c5c1d924103d"
      },
      "source": [
        "yahoo_preds = model.predict(x={'input_ids': test_x['input_ids']})\n",
        "correct = 0\n",
        "for pred, expected in zip(argmax(yahoo_preds['label'], axis=1),\n",
        "                          yahoo_df['numeric_label']):\n",
        "  if pred == expected:\n",
        "    correct += 1\n",
        "print(f\"Accuracy: {correct / len(yahoo_df)}\")"
      ],
      "execution_count": 43,
      "outputs": [
        {
          "output_type": "stream",
          "name": "stdout",
          "text": [
            "Accuracy: 0.7158394246639943\n"
          ]
        }
      ]
    },
    {
      "cell_type": "code",
      "metadata": {
        "id": "bouuHwgKF1NP",
        "colab": {
          "base_uri": "https://localhost:8080/"
        },
        "outputId": "2967369b-248d-4c5f-afd0-48ca0d79d5bb"
      },
      "source": [
        "confusion_matrix(yahoo_df['numeric_label'],\n",
        "                 argmax(yahoo_preds['label'], axis=1),\n",
        "                 num_classes=len(yahoo_df['label'].unique()))"
      ],
      "execution_count": 44,
      "outputs": [
        {
          "output_type": "execute_result",
          "data": {
            "text/plain": [
              "<tf.Tensor: shape=(3, 3), dtype=int32, numpy=\n",
              "array([[7783, 2571,  345],\n",
              "       [1950, 6976, 2074],\n",
              "       [ 440, 1809, 9980]], dtype=int32)>"
            ]
          },
          "metadata": {},
          "execution_count": 44
        }
      ]
    },
    {
      "cell_type": "markdown",
      "metadata": {
        "id": "sDr9H6VzFoPV"
      },
      "source": [
        ""
      ]
    }
  ]
}