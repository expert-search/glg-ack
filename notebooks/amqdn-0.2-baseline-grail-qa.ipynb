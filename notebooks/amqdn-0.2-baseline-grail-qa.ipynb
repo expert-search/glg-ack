{
 "cells": [
  {
   "cell_type": "markdown",
   "source": [
    "## Baseline - Grail QA\n",
    "\n",
    "Since we have labels already, it makes sense to consider what performance we can get with straight classification. Topic modeling is fine for large datasets where we don't have the luxury of labeled data, but let's see what a simpler classifier can do."
   ],
   "metadata": {}
  },
  {
   "cell_type": "code",
   "execution_count": 1,
   "source": [
    "import pandas as pd\n",
    "\n",
    "pd.options.display.max_colwidth = 0"
   ],
   "outputs": [],
   "metadata": {}
  },
  {
   "cell_type": "code",
   "execution_count": 2,
   "source": [
    "from src.data.utils import *\n",
    "\n",
    "train = pd.DataFrame(get_domains_and_questions('train', 'grail_qa'))\n",
    "dev   = pd.DataFrame(get_domains_and_questions('dev',   'grail_qa'))"
   ],
   "outputs": [],
   "metadata": {}
  },
  {
   "cell_type": "code",
   "execution_count": 3,
   "source": [
    "domains = ['medicine', 'computer']\n",
    "train = set_domains(train, domains)\n",
    "dev   = set_domains(dev,   domains)"
   ],
   "outputs": [],
   "metadata": {}
  },
  {
   "cell_type": "code",
   "execution_count": 6,
   "source": [
    "train.loc[train.domains =='medicine'].sample(5)"
   ],
   "outputs": [
    {
     "output_type": "execute_result",
     "data": {
      "text/plain": [
       "        domains  \\\n",
       "10245  medicine   \n",
       "33466  medicine   \n",
       "32658  medicine   \n",
       "38885  medicine   \n",
       "19342  medicine   \n",
       "\n",
       "                                                                                                                         questions  \n",
       "10245  ethacrynic acid has what symptoms as side effects?                                                                           \n",
       "33466  what fda otc drug monograph part regulates robafen dm max non drowsy 10/200 liquid)                                          \n",
       "32658  name a medical trial that uses the same type of medical trial as the cocaine effects in humans: physiology and behavior – 1  \n",
       "38885  orange is the flavor of what manufactured drug?                                                                              \n",
       "19342  of indinavir sulfate, who is the medical trial sponsor?                                                                      "
      ],
      "text/html": [
       "<div>\n",
       "<style scoped>\n",
       "    .dataframe tbody tr th:only-of-type {\n",
       "        vertical-align: middle;\n",
       "    }\n",
       "\n",
       "    .dataframe tbody tr th {\n",
       "        vertical-align: top;\n",
       "    }\n",
       "\n",
       "    .dataframe thead th {\n",
       "        text-align: right;\n",
       "    }\n",
       "</style>\n",
       "<table border=\"1\" class=\"dataframe\">\n",
       "  <thead>\n",
       "    <tr style=\"text-align: right;\">\n",
       "      <th></th>\n",
       "      <th>domains</th>\n",
       "      <th>questions</th>\n",
       "    </tr>\n",
       "  </thead>\n",
       "  <tbody>\n",
       "    <tr>\n",
       "      <th>10245</th>\n",
       "      <td>medicine</td>\n",
       "      <td>ethacrynic acid has what symptoms as side effects?</td>\n",
       "    </tr>\n",
       "    <tr>\n",
       "      <th>33466</th>\n",
       "      <td>medicine</td>\n",
       "      <td>what fda otc drug monograph part regulates robafen dm max non drowsy 10/200 liquid)</td>\n",
       "    </tr>\n",
       "    <tr>\n",
       "      <th>32658</th>\n",
       "      <td>medicine</td>\n",
       "      <td>name a medical trial that uses the same type of medical trial as the cocaine effects in humans: physiology and behavior – 1</td>\n",
       "    </tr>\n",
       "    <tr>\n",
       "      <th>38885</th>\n",
       "      <td>medicine</td>\n",
       "      <td>orange is the flavor of what manufactured drug?</td>\n",
       "    </tr>\n",
       "    <tr>\n",
       "      <th>19342</th>\n",
       "      <td>medicine</td>\n",
       "      <td>of indinavir sulfate, who is the medical trial sponsor?</td>\n",
       "    </tr>\n",
       "  </tbody>\n",
       "</table>\n",
       "</div>"
      ]
     },
     "metadata": {},
     "execution_count": 6
    }
   ],
   "metadata": {}
  },
  {
   "cell_type": "code",
   "execution_count": 7,
   "source": [
    "train.loc[train.domains =='computer'].sample(5)"
   ],
   "outputs": [
    {
     "output_type": "execute_result",
     "data": {
      "text/plain": [
       "        domains  \\\n",
       "13345  computer   \n",
       "27750  computer   \n",
       "35923  computer   \n",
       "4425   computer   \n",
       "2698   computer   \n",
       "\n",
       "                                                                 questions  \n",
       "13345  which type of software uses ssh file transfer protocol as protocol?  \n",
       "27750  what is zx-pilot's emulator?                                         \n",
       "35923  what file format can smartdraw read?                                 \n",
       "4425   name the computers whose parent was the trs-80 color computer.       \n",
       "2698   what software has a latest release date on 2007-02-09?               "
      ],
      "text/html": [
       "<div>\n",
       "<style scoped>\n",
       "    .dataframe tbody tr th:only-of-type {\n",
       "        vertical-align: middle;\n",
       "    }\n",
       "\n",
       "    .dataframe tbody tr th {\n",
       "        vertical-align: top;\n",
       "    }\n",
       "\n",
       "    .dataframe thead th {\n",
       "        text-align: right;\n",
       "    }\n",
       "</style>\n",
       "<table border=\"1\" class=\"dataframe\">\n",
       "  <thead>\n",
       "    <tr style=\"text-align: right;\">\n",
       "      <th></th>\n",
       "      <th>domains</th>\n",
       "      <th>questions</th>\n",
       "    </tr>\n",
       "  </thead>\n",
       "  <tbody>\n",
       "    <tr>\n",
       "      <th>13345</th>\n",
       "      <td>computer</td>\n",
       "      <td>which type of software uses ssh file transfer protocol as protocol?</td>\n",
       "    </tr>\n",
       "    <tr>\n",
       "      <th>27750</th>\n",
       "      <td>computer</td>\n",
       "      <td>what is zx-pilot's emulator?</td>\n",
       "    </tr>\n",
       "    <tr>\n",
       "      <th>35923</th>\n",
       "      <td>computer</td>\n",
       "      <td>what file format can smartdraw read?</td>\n",
       "    </tr>\n",
       "    <tr>\n",
       "      <th>4425</th>\n",
       "      <td>computer</td>\n",
       "      <td>name the computers whose parent was the trs-80 color computer.</td>\n",
       "    </tr>\n",
       "    <tr>\n",
       "      <th>2698</th>\n",
       "      <td>computer</td>\n",
       "      <td>what software has a latest release date on 2007-02-09?</td>\n",
       "    </tr>\n",
       "  </tbody>\n",
       "</table>\n",
       "</div>"
      ]
     },
     "metadata": {},
     "execution_count": 7
    }
   ],
   "metadata": {}
  },
  {
   "cell_type": "code",
   "execution_count": 14,
   "source": [
    "print(f'TRAIN DISTRIBUTION\\n{train.domains.value_counts()}')\n",
    "print(f'DEV DISTRIBUTION\\n{dev.domains.value_counts()}')"
   ],
   "outputs": [
    {
     "output_type": "stream",
     "name": "stdout",
     "text": [
      "TRAIN DISTRIBUTION\n",
      "medicine    2002\n",
      "computer    1923\n",
      "Name: domains, dtype: int64\n",
      "DEV DISTRIBUTION\n",
      "computer    190\n",
      "medicine    178\n",
      "Name: domains, dtype: int64\n"
     ]
    }
   ],
   "metadata": {}
  },
  {
   "cell_type": "markdown",
   "source": [
    "Fairly balanced dataset considering only these two `subdomains`. We'll see how that changes when we incorporate others."
   ],
   "metadata": {}
  },
  {
   "cell_type": "code",
   "execution_count": 15,
   "source": [
    "from sklearn.feature_extraction.text import TfidfVectorizer\n",
    "\n",
    "tfidf = TfidfVectorizer()\n",
    "xt = tfidf.fit_transform(train.questions)\n",
    "xd = tfidf.transform(dev.questions)"
   ],
   "outputs": [],
   "metadata": {}
  },
  {
   "cell_type": "code",
   "execution_count": 22,
   "source": [
    "import numpy as np\n",
    "\n",
    "def transform_labels(labels):\n",
    "    labels[np.where(labels == 'medicine')] = 0.\n",
    "    labels[np.where(labels == 'computer')] = 1.\n",
    "    return labels.astype(np.float64)\n",
    "\n",
    "yt = transform_labels(train.domains.values)\n",
    "yd = transform_labels(dev.domains.values)"
   ],
   "outputs": [],
   "metadata": {}
  },
  {
   "cell_type": "code",
   "execution_count": 24,
   "source": [
    "from sklearn.linear_model import LogisticRegression\n",
    "\n",
    "clf = LogisticRegression()\n",
    "clf.fit(xt, yt)"
   ],
   "outputs": [
    {
     "output_type": "execute_result",
     "data": {
      "text/plain": [
       "LogisticRegression()"
      ]
     },
     "metadata": {},
     "execution_count": 24
    }
   ],
   "metadata": {}
  },
  {
   "cell_type": "code",
   "execution_count": 26,
   "source": [
    "from sklearn.metrics import classification_report\n",
    "\n",
    "print(classification_report(yd, clf.predict(xd)))"
   ],
   "outputs": [
    {
     "output_type": "stream",
     "name": "stdout",
     "text": [
      "              precision    recall  f1-score   support\n",
      "\n",
      "         0.0       1.00      1.00      1.00       178\n",
      "         1.0       1.00      1.00      1.00       190\n",
      "\n",
      "    accuracy                           1.00       368\n",
      "   macro avg       1.00      1.00      1.00       368\n",
      "weighted avg       1.00      1.00      1.00       368\n",
      "\n"
     ]
    }
   ],
   "metadata": {}
  }
 ],
 "metadata": {
  "orig_nbformat": 4,
  "language_info": {
   "name": "python",
   "version": "3.9.1",
   "mimetype": "text/x-python",
   "codemirror_mode": {
    "name": "ipython",
    "version": 3
   },
   "pygments_lexer": "ipython3",
   "nbconvert_exporter": "python",
   "file_extension": ".py"
  },
  "kernelspec": {
   "name": "python3",
   "display_name": "Python 3.9.1 64-bit"
  },
  "interpreter": {
   "hash": "4cd7ab41f5fca4b9b44701077e38c5ffd31fe66a6cab21e0214b68d958d0e462"
  }
 },
 "nbformat": 4,
 "nbformat_minor": 2
}