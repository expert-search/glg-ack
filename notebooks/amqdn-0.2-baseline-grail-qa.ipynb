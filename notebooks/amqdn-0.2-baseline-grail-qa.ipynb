{
 "cells": [
  {
   "cell_type": "markdown",
   "source": [
    "## Baseline - Grail QA\n",
    "\n",
    "Since we have labels already, it makes sense to consider what performance we can get with straight classification. Topic modeling is fine for large datasets where we don't have the luxury of labeled data, but let's see what a simpler classifier can do."
   ],
   "metadata": {}
  },
  {
   "cell_type": "code",
   "execution_count": 1,
   "source": [
    "import pandas as pd\n",
    "\n",
    "pd.options.display.max_colwidth = 0"
   ],
   "outputs": [],
   "metadata": {}
  },
  {
   "cell_type": "code",
   "execution_count": 2,
   "source": [
    "from src.data.utils import *\n",
    "\n",
    "train = pd.DataFrame(get_domains_and_questions('train', 'grail_qa'))\n",
    "dev   = pd.DataFrame(get_domains_and_questions('dev',   'grail_qa'))"
   ],
   "outputs": [],
   "metadata": {}
  },
  {
   "cell_type": "code",
   "execution_count": 3,
   "source": [
    "domains = ['medicine', 'computer']\n",
    "train = filter_domains(train, domains)\n",
    "dev   = filter_domains(dev,   domains)"
   ],
   "outputs": [],
   "metadata": {}
  },
  {
   "cell_type": "code",
   "execution_count": 4,
   "source": [
    "train.loc[train.domains =='medicine'].sample(5)"
   ],
   "outputs": [
    {
     "output_type": "execute_result",
     "data": {
      "text/plain": [
       "        domains  \\\n",
       "24900  medicine   \n",
       "37288  medicine   \n",
       "32763  medicine   \n",
       "4098   medicine   \n",
       "18277  medicine   \n",
       "\n",
       "                                                                                                                                                        questions  \n",
       "24900  esomeprazole magnesium is in what drug class?                                                                                                               \n",
       "37288  name the drug mechanism of action for doconexent/icosapent/calcium/iron/ascorbic acid/pyridoxine/.alpha.-tocopherol, d-/folic acid.                         \n",
       "32763  what is the drug formulation of calendula officinalis flowering top/bellis perennis/ledum palustre twig/arnica montana/phosphorus homeopathic preparation?  \n",
       "4098   which drug uses inhalation as it's route of administration?                                                                                                 \n",
       "18277  what medical trial has the health authority us fda as well as the efficacy study design?                                                                    "
      ],
      "text/html": [
       "<div>\n",
       "<style scoped>\n",
       "    .dataframe tbody tr th:only-of-type {\n",
       "        vertical-align: middle;\n",
       "    }\n",
       "\n",
       "    .dataframe tbody tr th {\n",
       "        vertical-align: top;\n",
       "    }\n",
       "\n",
       "    .dataframe thead th {\n",
       "        text-align: right;\n",
       "    }\n",
       "</style>\n",
       "<table border=\"1\" class=\"dataframe\">\n",
       "  <thead>\n",
       "    <tr style=\"text-align: right;\">\n",
       "      <th></th>\n",
       "      <th>domains</th>\n",
       "      <th>questions</th>\n",
       "    </tr>\n",
       "  </thead>\n",
       "  <tbody>\n",
       "    <tr>\n",
       "      <th>24900</th>\n",
       "      <td>medicine</td>\n",
       "      <td>esomeprazole magnesium is in what drug class?</td>\n",
       "    </tr>\n",
       "    <tr>\n",
       "      <th>37288</th>\n",
       "      <td>medicine</td>\n",
       "      <td>name the drug mechanism of action for doconexent/icosapent/calcium/iron/ascorbic acid/pyridoxine/.alpha.-tocopherol, d-/folic acid.</td>\n",
       "    </tr>\n",
       "    <tr>\n",
       "      <th>32763</th>\n",
       "      <td>medicine</td>\n",
       "      <td>what is the drug formulation of calendula officinalis flowering top/bellis perennis/ledum palustre twig/arnica montana/phosphorus homeopathic preparation?</td>\n",
       "    </tr>\n",
       "    <tr>\n",
       "      <th>4098</th>\n",
       "      <td>medicine</td>\n",
       "      <td>which drug uses inhalation as it's route of administration?</td>\n",
       "    </tr>\n",
       "    <tr>\n",
       "      <th>18277</th>\n",
       "      <td>medicine</td>\n",
       "      <td>what medical trial has the health authority us fda as well as the efficacy study design?</td>\n",
       "    </tr>\n",
       "  </tbody>\n",
       "</table>\n",
       "</div>"
      ]
     },
     "metadata": {},
     "execution_count": 4
    }
   ],
   "metadata": {}
  },
  {
   "cell_type": "code",
   "execution_count": 5,
   "source": [
    "train.loc[train.domains =='computer'].sample(5)"
   ],
   "outputs": [
    {
     "output_type": "execute_result",
     "data": {
      "text/plain": [
       "        domains  \\\n",
       "21766  computer   \n",
       "25630  computer   \n",
       "17974  computer   \n",
       "18675  computer   \n",
       "8067   computer   \n",
       "\n",
       "                                                                                    questions  \n",
       "21766  commodore vic-20 is a computer emulated by which computer emulator?                     \n",
       "25630  which is the earliest computer processor on record?                                     \n",
       "17974  what model computer is compatible with the peripheral of interface?                     \n",
       "18675  what is the file format contained by eps?                                               \n",
       "8067   who was the developer on the earliest released operation system that includes android?  "
      ],
      "text/html": [
       "<div>\n",
       "<style scoped>\n",
       "    .dataframe tbody tr th:only-of-type {\n",
       "        vertical-align: middle;\n",
       "    }\n",
       "\n",
       "    .dataframe tbody tr th {\n",
       "        vertical-align: top;\n",
       "    }\n",
       "\n",
       "    .dataframe thead th {\n",
       "        text-align: right;\n",
       "    }\n",
       "</style>\n",
       "<table border=\"1\" class=\"dataframe\">\n",
       "  <thead>\n",
       "    <tr style=\"text-align: right;\">\n",
       "      <th></th>\n",
       "      <th>domains</th>\n",
       "      <th>questions</th>\n",
       "    </tr>\n",
       "  </thead>\n",
       "  <tbody>\n",
       "    <tr>\n",
       "      <th>21766</th>\n",
       "      <td>computer</td>\n",
       "      <td>commodore vic-20 is a computer emulated by which computer emulator?</td>\n",
       "    </tr>\n",
       "    <tr>\n",
       "      <th>25630</th>\n",
       "      <td>computer</td>\n",
       "      <td>which is the earliest computer processor on record?</td>\n",
       "    </tr>\n",
       "    <tr>\n",
       "      <th>17974</th>\n",
       "      <td>computer</td>\n",
       "      <td>what model computer is compatible with the peripheral of interface?</td>\n",
       "    </tr>\n",
       "    <tr>\n",
       "      <th>18675</th>\n",
       "      <td>computer</td>\n",
       "      <td>what is the file format contained by eps?</td>\n",
       "    </tr>\n",
       "    <tr>\n",
       "      <th>8067</th>\n",
       "      <td>computer</td>\n",
       "      <td>who was the developer on the earliest released operation system that includes android?</td>\n",
       "    </tr>\n",
       "  </tbody>\n",
       "</table>\n",
       "</div>"
      ]
     },
     "metadata": {},
     "execution_count": 5
    }
   ],
   "metadata": {}
  },
  {
   "cell_type": "code",
   "execution_count": 6,
   "source": [
    "print(f'---Train Distribution---\\n{train.domains.value_counts()}')\n",
    "print(f'---Dev Distribution---\\n{dev.domains.value_counts()}')"
   ],
   "outputs": [
    {
     "output_type": "stream",
     "name": "stdout",
     "text": [
      "---Train Distribution---\n",
      "medicine    2002\n",
      "computer    1923\n",
      "Name: domains, dtype: int64\n",
      "---Dev Distribution---\n",
      "computer    190\n",
      "medicine    178\n",
      "Name: domains, dtype: int64\n"
     ]
    }
   ],
   "metadata": {}
  },
  {
   "cell_type": "markdown",
   "source": [
    "Fairly balanced dataset considering only these two `subdomains`. We'll see how that changes when we incorporate others."
   ],
   "metadata": {}
  },
  {
   "cell_type": "code",
   "execution_count": 7,
   "source": [
    "from sklearn.feature_extraction.text import TfidfVectorizer\n",
    "\n",
    "tfidf = TfidfVectorizer()\n",
    "xt = tfidf.fit_transform(train.questions)\n",
    "xd = tfidf.transform(dev.questions)"
   ],
   "outputs": [],
   "metadata": {}
  },
  {
   "cell_type": "code",
   "execution_count": 8,
   "source": [
    "import numpy as np\n",
    "\n",
    "def transform_labels(labels):\n",
    "    labels[np.where(labels == 'medicine')] = 0.\n",
    "    labels[np.where(labels == 'computer')] = 1.\n",
    "    return labels.astype(np.float64)\n",
    "\n",
    "yt = transform_labels(train.domains.values)\n",
    "yd = transform_labels(dev.domains.values)"
   ],
   "outputs": [],
   "metadata": {}
  },
  {
   "cell_type": "code",
   "execution_count": 9,
   "source": [
    "from sklearn.linear_model import LogisticRegression\n",
    "\n",
    "clf = LogisticRegression()\n",
    "clf.fit(xt, yt)"
   ],
   "outputs": [
    {
     "output_type": "execute_result",
     "data": {
      "text/plain": [
       "LogisticRegression()"
      ]
     },
     "metadata": {},
     "execution_count": 9
    }
   ],
   "metadata": {}
  },
  {
   "cell_type": "code",
   "execution_count": 10,
   "source": [
    "from sklearn.metrics import classification_report\n",
    "\n",
    "print(classification_report(yd, clf.predict(xd)))"
   ],
   "outputs": [
    {
     "output_type": "stream",
     "name": "stdout",
     "text": [
      "              precision    recall  f1-score   support\n",
      "\n",
      "         0.0       1.00      1.00      1.00       178\n",
      "         1.0       1.00      1.00      1.00       190\n",
      "\n",
      "    accuracy                           1.00       368\n",
      "   macro avg       1.00      1.00      1.00       368\n",
      "weighted avg       1.00      1.00      1.00       368\n",
      "\n"
     ]
    }
   ],
   "metadata": {}
  }
 ],
 "metadata": {
  "orig_nbformat": 4,
  "language_info": {
   "name": "python",
   "version": "3.9.1",
   "mimetype": "text/x-python",
   "codemirror_mode": {
    "name": "ipython",
    "version": 3
   },
   "pygments_lexer": "ipython3",
   "nbconvert_exporter": "python",
   "file_extension": ".py"
  },
  "kernelspec": {
   "name": "python3",
   "display_name": "Python 3.9.1 64-bit"
  },
  "interpreter": {
   "hash": "4cd7ab41f5fca4b9b44701077e38c5ffd31fe66a6cab21e0214b68d958d0e462"
  }
 },
 "nbformat": 4,
 "nbformat_minor": 2
}