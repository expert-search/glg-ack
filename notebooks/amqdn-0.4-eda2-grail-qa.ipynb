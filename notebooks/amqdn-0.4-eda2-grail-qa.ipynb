{
 "cells": [
  {
   "cell_type": "markdown",
   "source": [
    "## EDA 2 - Grail QA\n",
    "\n",
    "Since we have some strong baselines, let's take a deeper look at our dataset to understand its quirks and identify any limiting conditions. Specifically, in this notebook, we'll look at which terms appear most frequently across documents. "
   ],
   "metadata": {}
  },
  {
   "cell_type": "code",
   "execution_count": 1,
   "source": [
    "import pandas as pd\n",
    "\n",
    "pd.options.display.max_colwidth = 0"
   ],
   "outputs": [],
   "metadata": {}
  },
  {
   "cell_type": "code",
   "execution_count": 2,
   "source": [
    "from src.data.utils import *\n",
    "\n",
    "train, dev = make_grail_qa()"
   ],
   "outputs": [],
   "metadata": {}
  },
  {
   "cell_type": "code",
   "execution_count": 3,
   "source": [
    "print(f'---Train Distribution---\\n{train.domains.value_counts()}')\n",
    "print(f'---Dev Distribution---\\n{dev.domains.value_counts()}')"
   ],
   "outputs": [
    {
     "output_type": "stream",
     "name": "stdout",
     "text": [
      "---Train Distribution---\n",
      "technology    4967\n",
      "healthcare    3250\n",
      "Name: domains, dtype: int64\n",
      "---Dev Distribution---\n",
      "technology    408\n",
      "healthcare    303\n",
      "Name: domains, dtype: int64\n"
     ]
    }
   ],
   "metadata": {}
  },
  {
   "cell_type": "code",
   "execution_count": 4,
   "source": [
    "from sklearn.feature_extraction.text import TfidfVectorizer\n",
    "\n",
    "tfidf = TfidfVectorizer()\n",
    "xt = tfidf.fit_transform(train.questions)"
   ],
   "outputs": [],
   "metadata": {}
  },
  {
   "cell_type": "code",
   "execution_count": 25,
   "source": [
    "import altair as alt\n",
    "\n",
    "# Map the vocab\n",
    "vocab = {v: k for k, v in tfidf.vocabulary_.items()}\n",
    "\n",
    "# Find the top k terms by IDF\n",
    "k = 50\n",
    "common_terms_idxs = tfidf.idf_.argsort()[:k]\n",
    "\n",
    "# DataFrame for plotting\n",
    "common_terms = pd.DataFrame({'terms': [vocab[i] for i in common_terms_idxs], 'IDF': tfidf.idf_[common_terms_idxs]})"
   ],
   "outputs": [],
   "metadata": {}
  },
  {
   "cell_type": "code",
   "execution_count": 26,
   "source": [
    "# Plot\n",
    "title = alt.TitleParams(f'Top {k} Terms by IDF', subtitle='(smaller IDF is more frequent)')\n",
    "alt.Chart(common_terms, title=title).mark_line().encode(y=alt.Y('terms', sort='x'), x='IDF').configure_axisY(labelAlign='left', labelPadding=70)"
   ],
   "outputs": [
    {
     "output_type": "execute_result",
     "data": {
      "text/plain": [
       "alt.Chart(...)"
      ],
      "text/html": [
       "\n",
       "<div id=\"altair-viz-684eb7275b374a2ba3d58dceea02f4f1\"></div>\n",
       "<script type=\"text/javascript\">\n",
       "  (function(spec, embedOpt){\n",
       "    let outputDiv = document.currentScript.previousElementSibling;\n",
       "    if (outputDiv.id !== \"altair-viz-684eb7275b374a2ba3d58dceea02f4f1\") {\n",
       "      outputDiv = document.getElementById(\"altair-viz-684eb7275b374a2ba3d58dceea02f4f1\");\n",
       "    }\n",
       "    const paths = {\n",
       "      \"vega\": \"https://cdn.jsdelivr.net/npm//vega@5?noext\",\n",
       "      \"vega-lib\": \"https://cdn.jsdelivr.net/npm//vega-lib?noext\",\n",
       "      \"vega-lite\": \"https://cdn.jsdelivr.net/npm//vega-lite@4.8.1?noext\",\n",
       "      \"vega-embed\": \"https://cdn.jsdelivr.net/npm//vega-embed@6?noext\",\n",
       "    };\n",
       "\n",
       "    function loadScript(lib) {\n",
       "      return new Promise(function(resolve, reject) {\n",
       "        var s = document.createElement('script');\n",
       "        s.src = paths[lib];\n",
       "        s.async = true;\n",
       "        s.onload = () => resolve(paths[lib]);\n",
       "        s.onerror = () => reject(`Error loading script: ${paths[lib]}`);\n",
       "        document.getElementsByTagName(\"head\")[0].appendChild(s);\n",
       "      });\n",
       "    }\n",
       "\n",
       "    function showError(err) {\n",
       "      outputDiv.innerHTML = `<div class=\"error\" style=\"color:red;\">${err}</div>`;\n",
       "      throw err;\n",
       "    }\n",
       "\n",
       "    function displayChart(vegaEmbed) {\n",
       "      vegaEmbed(outputDiv, spec, embedOpt)\n",
       "        .catch(err => showError(`Javascript Error: ${err.message}<br>This usually means there's a typo in your chart specification. See the javascript console for the full traceback.`));\n",
       "    }\n",
       "\n",
       "    if(typeof define === \"function\" && define.amd) {\n",
       "      requirejs.config({paths});\n",
       "      require([\"vega-embed\"], displayChart, err => showError(`Error loading script: ${err.message}`));\n",
       "    } else if (typeof vegaEmbed === \"function\") {\n",
       "      displayChart(vegaEmbed);\n",
       "    } else {\n",
       "      loadScript(\"vega\")\n",
       "        .then(() => loadScript(\"vega-lite\"))\n",
       "        .then(() => loadScript(\"vega-embed\"))\n",
       "        .catch(showError)\n",
       "        .then(() => displayChart(vegaEmbed));\n",
       "    }\n",
       "  })({\"config\": {\"view\": {\"continuousWidth\": 400, \"continuousHeight\": 300}, \"axisY\": {\"labelAlign\": \"left\", \"labelPadding\": 70}}, \"data\": {\"name\": \"data-58e09e89e9a22662335de87fb0d9066d\"}, \"mark\": \"line\", \"encoding\": {\"x\": {\"type\": \"quantitative\", \"field\": \"IDF\"}, \"y\": {\"type\": \"nominal\", \"field\": \"terms\", \"sort\": \"x\"}}, \"title\": {\"text\": \"Top 50 Terms by IDF\", \"subtitle\": \"(smaller IDF is more frequent)\"}, \"$schema\": \"https://vega.github.io/schema/vega-lite/v4.8.1.json\", \"datasets\": {\"data-58e09e89e9a22662335de87fb0d9066d\": [{\"terms\": \"the\", \"IDF\": 1.6352319076488624}, {\"terms\": \"what\", \"IDF\": 1.6641248774030313}, {\"terms\": \"of\", \"IDF\": 1.7805790092093612}, {\"terms\": \"is\", \"IDF\": 1.8284532582957476}, {\"terms\": \"which\", \"IDF\": 2.055854957121043}, {\"terms\": \"has\", \"IDF\": 2.7763039575199118}, {\"terms\": \"by\", \"IDF\": 3.097367129089746}, {\"terms\": \"that\", \"IDF\": 3.3011259487662854}, {\"terms\": \"drug\", \"IDF\": 3.353506999603669}, {\"terms\": \"in\", \"IDF\": 3.3715953480760987}, {\"terms\": \"and\", \"IDF\": 3.4431991871037706}, {\"terms\": \"rocket\", \"IDF\": 3.461574262408765}, {\"terms\": \"engine\", \"IDF\": 3.4817478572210057}, {\"terms\": \"with\", \"IDF\": 3.48320452171747}, {\"terms\": \"medical\", \"IDF\": 3.6072021633740405}, {\"terms\": \"for\", \"IDF\": 3.61050795150854}, {\"terms\": \"was\", \"IDF\": 3.617152494227209}, {\"terms\": \"name\", \"IDF\": 3.71146317369845}, {\"terms\": \"to\", \"IDF\": 3.724366578534358}, {\"terms\": \"are\", \"IDF\": 3.764106907183872}, {\"terms\": \"type\", \"IDF\": 3.8340654957907825}, {\"terms\": \"computer\", \"IDF\": 3.876355095357121}, {\"terms\": \"how\", \"IDF\": 4.0428203096528925}, {\"terms\": \"programming\", \"IDF\": 4.066047160262709}, {\"terms\": \"who\", \"IDF\": 4.0712827743166535}, {\"terms\": \"as\", \"IDF\": 4.081836961995345}, {\"terms\": \"on\", \"IDF\": 4.09788008683592}, {\"terms\": \"many\", \"IDF\": 4.122437937617584}, {\"terms\": \"language\", \"IDF\": 4.170537732411995}, {\"terms\": \"organism\", \"IDF\": 4.173440492069957}, {\"terms\": \"than\", \"IDF\": 4.185136531833148}, {\"terms\": \"manufactured\", \"IDF\": 4.227184768076647}, {\"terms\": \"used\", \"IDF\": 4.287234401856158}, {\"terms\": \"have\", \"IDF\": 4.320350010640656}, {\"terms\": \"format\", \"IDF\": 4.3651079112821485}, {\"terms\": \"model\", \"IDF\": 4.397311051776784}, {\"terms\": \"file\", \"IDF\": 4.419370769841516}, {\"terms\": \"trial\", \"IDF\": 4.4305858406616565}, {\"terms\": \"human\", \"IDF\": 4.453400518427827}, {\"terms\": \"parent\", \"IDF\": 4.457254087743817}, {\"terms\": \"does\", \"IDF\": 4.461122564521737}, {\"terms\": \"chromosome\", \"IDF\": 4.465006064548135}, {\"terms\": \"designed\", \"IDF\": 4.508750613510992}, {\"terms\": \"software\", \"IDF\": 4.516913924150153}, {\"terms\": \"automobile\", \"IDF\": 4.567344777777045}, {\"terms\": \"disease\", \"IDF\": 4.567344777777045}, {\"terms\": \"space\", \"IDF\": 4.584736520488914}, {\"terms\": \"manufacturer\", \"IDF\": 4.634184795902895}, {\"terms\": \"an\", \"IDF\": 4.671747897478545}, {\"terms\": \"bipropellant\", \"IDF\": 4.691072170304947}]}}, {\"mode\": \"vega-lite\"});\n",
       "</script>"
      ]
     },
     "metadata": {},
     "execution_count": 26
    }
   ],
   "metadata": {}
  },
  {
   "cell_type": "markdown",
   "source": [
    "Based on this list, let's compile a list of stop words specific to our dataset, which should help our models generalize:"
   ],
   "metadata": {}
  },
  {
   "cell_type": "code",
   "execution_count": null,
   "source": [
    "stop_words = ['the', 'what', 'of', 'is', 'which', 'has', 'by', 'that', 'in', 'and', 'with', 'for', 'was', 'name', 'to', 'are', 'how', 'who', 'as', 'on', 'many', 'than', 'used', 'have', 'does', 'an']"
   ],
   "outputs": [],
   "metadata": {}
  }
 ],
 "metadata": {
  "orig_nbformat": 4,
  "language_info": {
   "name": "python",
   "version": "3.9.1",
   "mimetype": "text/x-python",
   "codemirror_mode": {
    "name": "ipython",
    "version": 3
   },
   "pygments_lexer": "ipython3",
   "nbconvert_exporter": "python",
   "file_extension": ".py"
  },
  "kernelspec": {
   "name": "python3",
   "display_name": "Python 3.9.1 64-bit"
  },
  "interpreter": {
   "hash": "4cd7ab41f5fca4b9b44701077e38c5ffd31fe66a6cab21e0214b68d958d0e462"
  }
 },
 "nbformat": 4,
 "nbformat_minor": 2
}